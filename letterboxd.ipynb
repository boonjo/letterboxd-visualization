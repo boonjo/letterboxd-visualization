{
 "cells": [
  {
   "cell_type": "code",
   "execution_count": 5,
   "metadata": {},
   "outputs": [],
   "source": [
    "import requests\n",
    "from oauthlib.oauth2 import WebApplicationClient\n",
    "from bs4 import BeautifulSoup\n",
    "import letterboxd"
   ]
  },
  {
   "cell_type": "code",
   "execution_count": 7,
   "metadata": {},
   "outputs": [],
   "source": [
    "def get_code(url):\n",
    "    for _ in range(10):\n",
    "        try:\n",
    "            r = requests.get(url, verify=False, timeout=10)\n",
    "            break\n",
    "        except(requests.ConnectionError, requests.ConnectTimeout, requests.ReadTimeout, requests.exceptions.ChunkedEncodingError):\n",
    "            print('Connection error, retrying...')\n",
    "            sleep(1)\n",
    "    else:\n",
    "        print(\"No Connection available. The program is stopped\")\n",
    "        sys.exit()\n",
    "        \n",
    "    code = BeautifulSoup(r.text, features='lxml')\n",
    "    return code"
   ]
  },
  {
   "cell_type": "code",
   "execution_count": null,
   "metadata": {},
   "outputs": [],
   "source": [
    "class letterboxd:\n",
    "    def __init__(self):\n",
    "        pass\n",
    "    def user(self):\n",
    "        user = None\n",
    "        while not user:\n",
    "            user = input(\"\\nEnter your Letterboxd username: \\n\")\n",
    "            if not user:\n",
    "                continue\n",
    "            url = \"https://api.letterboxd.com/api/v0/user/{}/\".format(user)\n",
    "            \n",
    "            "
   ]
  },
  {
   "cell_type": "code",
   "execution_count": null,
   "metadata": {},
   "outputs": [],
   "source": []
  }
 ],
 "metadata": {
  "interpreter": {
   "hash": "aee8b7b246df8f9039afb4144a1f6fd8d2ca17a180786b69acc140d282b71a49"
  },
  "kernelspec": {
   "display_name": "Python 3.10.0 64-bit",
   "language": "python",
   "name": "python3"
  },
  "language_info": {
   "codemirror_mode": {
    "name": "ipython",
    "version": 3
   },
   "file_extension": ".py",
   "mimetype": "text/x-python",
   "name": "python",
   "nbconvert_exporter": "python",
   "pygments_lexer": "ipython3",
   "version": "3.10.0"
  },
  "orig_nbformat": 4
 },
 "nbformat": 4,
 "nbformat_minor": 2
}
